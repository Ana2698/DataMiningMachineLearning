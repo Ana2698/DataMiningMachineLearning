{
 "cells": [
  {
   "cell_type": "code",
   "execution_count": null,
   "id": "c1d81fff",
   "metadata": {},
   "outputs": [],
   "source": [
    "#code for the average function\n",
    "#for reducing the features in the data based on the average of each feature\n",
    "import numpy as np\n",
    "data = pd.read_table(\"data_tr.txt\", sep=\"\\t\", header=None)\n",
    "converted_df = []\n",
    "for i in range(0, data.shape[1]):\n",
    "    avg = np.average(data[i])\n",
    "    if ((avg * 10) >= 3):\n",
    "        converted_df.append(data[i])\n",
    "print(len(converted_df[0]))\n",
    "new_df = pd.DataFrame(converted_df, index=None)\n",
    "new_df = new_df.T"
   ]
  },
  {
   "cell_type": "code",
   "execution_count": null,
   "id": "03587331",
   "metadata": {},
   "outputs": [],
   "source": [
    "#making a csv file of the reduced data\n",
    "new_df.to_csv ('new_df.csv', index = None, header=True)"
   ]
  },
  {
   "cell_type": "code",
   "execution_count": null,
   "id": "2a87f336",
   "metadata": {
    "scrolled": false
   },
   "outputs": [],
   "source": [
    "#Import Statements\n",
    "import pandas as pd\n",
    "import numpy as np\n",
    "from sklearn.decomposition import FastICA\n",
    "from sklearn.cluster import KMeans\n",
    "from sklearn.metrics import silhouette_samples, silhouette_score\n",
    "\n",
    "#Fixing randomness of the code\n",
    "np.random.seed(0)\n",
    "#Reading the PREPROCESSED taining data\n",
    "Traindata=pd.read_csv('new_df_avg_final1.csv')\n",
    "#Reading the test data\n",
    "test_data=pd.read_csv('data_ts.txt', sep='\\t',header=None)\n",
    "#loading the selected indices \n",
    "indexes = np.load(\"indexes.npy\")\n",
    "indexes_test_dataset = [test_data[i] for i in indexes]\n",
    "test_df = pd.DataFrame(indexes_test_dataset, index=None)\n",
    "test_df = test_df.T\n",
    "\n",
    "#Decomposition technique\n",
    "xpca = FastICA(n_components =150, random_state=0)\n",
    "xpca.fit(Traindata)\n",
    "xpca_scaled = xpca.transform(Traindata)\n",
    "xpca_test_scale=xpca.transform(test_df)\n",
    "print(\"FastICA is done\")\n",
    "\n",
    "#Running K-means Model\n",
    "kmeans = KMeans(n_clusters=16, random_state=0)\n",
    "p=kmeans.fit(xpca_scaled)\n",
    "payload2=kmeans.predict(xpca_test_scale).tolist()\n",
    "\n",
    "#Internal Evaluation SCORE\n",
    "from sklearn.metrics import silhouette_samples, silhouette_score\n",
    "silhouette_avg = silhouette_score(test_df, payload2)\n",
    "\n",
    "print(silhouette_avg)"
   ]
  },
  {
   "cell_type": "code",
   "execution_count": 4,
   "id": "47c895c6",
   "metadata": {},
   "outputs": [
    {
     "name": "stdout",
     "output_type": "stream",
     "text": [
      "0.8658495872299956\n",
      "\n"
     ]
    }
   ],
   "source": [
    "#calling api\n",
    "from requests import request\n",
    "import json\n",
    "payload= json.dumps(payload2)\n",
    "url = \"https://www.csci555competition.online/scoretest\"\n",
    "headers = {\n",
    "    'Content-Type': 'application/json'\n",
    "}\n",
    "response = request(\"POST\", url, headers=headers, data=payload)\n",
    "print(response.text)"
   ]
  },
  {
   "cell_type": "code",
   "execution_count": null,
   "id": "b8f06dcc",
   "metadata": {},
   "outputs": [],
   "source": []
  }
 ],
 "metadata": {
  "kernelspec": {
   "display_name": "Python 3 (ipykernel)",
   "language": "python",
   "name": "python3"
  },
  "language_info": {
   "codemirror_mode": {
    "name": "ipython",
    "version": 3
   },
   "file_extension": ".py",
   "mimetype": "text/x-python",
   "name": "python",
   "nbconvert_exporter": "python",
   "pygments_lexer": "ipython3",
   "version": "3.9.12"
  }
 },
 "nbformat": 4,
 "nbformat_minor": 5
}
